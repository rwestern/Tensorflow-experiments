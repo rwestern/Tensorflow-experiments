{
 "cells": [
  {
   "cell_type": "code",
   "execution_count": 1,
   "metadata": {},
   "outputs": [],
   "source": [
    "import pandas\n",
    "import seaborn as sns\n",
    "import tensorflow as tf\n",
    "from tensorflow import keras\n",
    "from tensorflow.keras import layers\n",
    "from sklearn.preprocessing import OneHotEncoder\n",
    "import plotly\n",
    "from datetime import datetime"
   ]
  },
  {
   "cell_type": "code",
   "execution_count": 2,
   "metadata": {},
   "outputs": [],
   "source": [
    "pseudo_rtr_feed = pandas.read_csv('//pwv-dc-fs03/SRI/Analytics Joint Pipeline/Sprint 5/4 - Short term demand spikes/data/pseudo_rtr_feed.csv',\n",
    "                                 parse_dates = ['CASE_DATE', 'DATE_CALL_START_FINCAD'],\n",
    "                                 infer_datetime_format = True)"
   ]
  },
  {
   "cell_type": "code",
   "execution_count": 3,
   "metadata": {},
   "outputs": [],
   "source": [
    "pseudo_rtr_feed['HOUR_CALL_START_FINCAD'] = pseudo_rtr_feed['DATE_CALL_START_FINCAD'].astype('datetime64[h]')\n",
    "pseudo_rtr_feed['hour'] = pseudo_rtr_feed['DATE_CALL_START_FINCAD'].dt.hour.astype(str)\n",
    "pseudo_rtr_feed['month'] = pseudo_rtr_feed['DATE_CALL_START_FINCAD'].dt.month_name()\n",
    "pseudo_rtr_feed['weekday'] = pseudo_rtr_feed['DATE_CALL_START_FINCAD'].dt.day_name()\n",
    "\n",
    "pseudo_rtr_feed['month_weekday'] = pseudo_rtr_feed['month'] + '_' + pseudo_rtr_feed['weekday']\n",
    "    \n",
    "pseudo_rtr_feed['weekday_hour'] = pseudo_rtr_feed['weekday'] + '_' + pseudo_rtr_feed['hour']\n",
    "pseudo_rtr_feed.reset_index(inplace=True)"
   ]
  },
  {
   "cell_type": "code",
   "execution_count": 4,
   "metadata": {},
   "outputs": [
    {
     "name": "stdout",
     "output_type": "stream",
     "text": [
      "index                              int64\n",
      "RN                                 int64\n",
      "CASE_DATE                 datetime64[ns]\n",
      "DATE_CALL_START_FINCAD    datetime64[ns]\n",
      "LOCATION_DESC                     object\n",
      "X_COORD                          float64\n",
      "Y_COORD                          float64\n",
      "COMMONEVENTID                    float64\n",
      "EVENT_NUM                         object\n",
      "INITIAL_PRIORITY_CODE              int64\n",
      "INITIAL_ET_DESCRIPTION            object\n",
      "INITIAL_EVENT_TYPE                object\n",
      "FINAL_ET_DESCRIPTION              object\n",
      "FINAL_EVENT_TYPE                  object\n",
      "HOUR_CALL_START_FINCAD    datetime64[ns]\n",
      "hour                              object\n",
      "month                             object\n",
      "weekday                           object\n",
      "month_weekday                     object\n",
      "weekday_hour                      object\n",
      "dtype: object\n",
      "              index         RN       X_COORD       Y_COORD  COMMONEVENTID  \\\n",
      "count  1.344192e+06  1344192.0  1.344076e+06  1.344076e+06   1.344191e+06   \n",
      "mean   6.720955e+05        1.0  3.381748e+08  1.286274e+08   8.824318e+07   \n",
      "std    3.880350e+05        0.0  7.153759e+06  7.132543e+06   2.263984e+06   \n",
      "min    0.000000e+00        1.0  1.000000e+02  1.000000e+02   8.429218e+07   \n",
      "25%    3.360478e+05        1.0  3.368452e+08  1.252865e+08   8.631094e+07   \n",
      "50%    6.720955e+05        1.0  3.385918e+08  1.272659e+08   8.822559e+07   \n",
      "75%    1.008143e+06        1.0  3.400970e+08  1.286901e+08   9.023776e+07   \n",
      "max    1.344191e+06        1.0  3.824972e+08  1.780424e+08   9.211211e+07   \n",
      "\n",
      "       INITIAL_PRIORITY_CODE  \n",
      "count           1.344192e+06  \n",
      "mean            1.867561e+00  \n",
      "std             9.081502e-01  \n",
      "min             0.000000e+00  \n",
      "25%             1.000000e+00  \n",
      "50%             2.000000e+00  \n",
      "75%             3.000000e+00  \n",
      "max             3.000000e+00  \n"
     ]
    }
   ],
   "source": [
    "#print(pseudo_rtr_feed.shape)\n",
    "print(pseudo_rtr_feed.dtypes)\n",
    "print(pseudo_rtr_feed.describe())\n",
    "#print(pseudo_rtr_feed.head())"
   ]
  },
  {
   "cell_type": "code",
   "execution_count": 5,
   "metadata": {},
   "outputs": [
    {
     "name": "stdout",
     "output_type": "stream",
     "text": [
      "(18120, 7)\n",
      "(18120, 292)\n"
     ]
    }
   ],
   "source": [
    "hourly_rtr = pseudo_rtr_feed[['hour', 'weekday', 'month', 'month_weekday', 'weekday_hour', 'HOUR_CALL_START_FINCAD', 'EVENT_NUM']].groupby(['hour', 'weekday', 'month', 'month_weekday', 'weekday_hour', 'HOUR_CALL_START_FINCAD']).count().reset_index()\n",
    "hourly_rtr.sort_values('HOUR_CALL_START_FINCAD', inplace = True)\n",
    "print(hourly_rtr.shape)\n",
    "hourly_rtr = pandas.get_dummies(hourly_rtr, drop_first = True)\n",
    "print(hourly_rtr.shape)\n"
   ]
  },
  {
   "cell_type": "code",
   "execution_count": 6,
   "metadata": {},
   "outputs": [],
   "source": [
    "def build_model(train_dataset):\n",
    "    model = keras.Sequential([\n",
    "        layers.Dense(128, activation=tf.nn.relu, kernel_regularizer=keras.regularizers.l2(0.01), input_shape=[len(train_dataset.keys())]),\n",
    "        keras.layers.Dropout(0.2),\n",
    "        layers.Dense(64, activation=tf.nn.relu, kernel_regularizer=keras.regularizers.l2(0.01)),\n",
    "        keras.layers.Dropout(0.2),\n",
    "        layers.Dense(1)\n",
    "    ])\n",
    "    \n",
    "    optimizer = tf.train.RMSPropOptimizer(0.001)\n",
    "    \n",
    "    model.compile(loss='mse',\n",
    "                  optimizer=optimizer,\n",
    "                  metrics=['mae', 'mse'])\n",
    "    return model"
   ]
  },
  {
   "cell_type": "code",
   "execution_count": 7,
   "metadata": {},
   "outputs": [
    {
     "name": "stdout",
     "output_type": "stream",
     "text": [
      "(11133, 293)\n",
      "(6987, 293)\n",
      "count    11133.000000\n",
      "mean         1.312996\n",
      "std          0.107662\n",
      "min          1.000000\n",
      "25%          1.216450\n",
      "50%          1.337662\n",
      "75%          1.398268\n",
      "max          1.731602\n",
      "Name: weight, dtype: float64\n"
     ]
    }
   ],
   "source": [
    "hourly_rtr['weight'] = 1 + (hourly_rtr['EVENT_NUM'] - hourly_rtr['EVENT_NUM'].min())/(hourly_rtr['EVENT_NUM'].max()-hourly_rtr['EVENT_NUM'].min())\n",
    "train_dataset = hourly_rtr.copy().loc[0:(0.8 * hourly_rtr.shape[0])]\n",
    "test_dataset = hourly_rtr.copy().drop(train_dataset.index)\n",
    "print(train_dataset.shape)\n",
    "print(test_dataset.shape)\n",
    "print(train_dataset['weight'].describe())\n"
   ]
  },
  {
   "cell_type": "code",
   "execution_count": 8,
   "metadata": {},
   "outputs": [],
   "source": [
    "class PrintDot(keras.callbacks.Callback):\n",
    "    def on_epoch_end(self, epoch, logs):\n",
    "        if epoch % 100 == 0: print('')\n",
    "        print('.', end='')\n",
    "\n",
    "def prepData(df):\n",
    "    return df.drop(columns=['HOUR_CALL_START_FINCAD', 'EVENT_NUM'])\n",
    "\n",
    "early_stop = keras.callbacks.EarlyStopping(monitor='val_loss', patience=50)"
   ]
  },
  {
   "cell_type": "code",
   "execution_count": 9,
   "metadata": {},
   "outputs": [
    {
     "ename": "InternalError",
     "evalue": "Blas GEMM launch failed : a.shape=(32, 291), b.shape=(291, 128), m=32, n=128, k=291\n\t [[Node: dense/MatMul = MatMul[T=DT_FLOAT, transpose_a=false, transpose_b=false, _device=\"/job:localhost/replica:0/task:0/device:GPU:0\"](_arg_dense_input_0_0/_43, dense/MatMul/ReadVariableOp)]]\n\t [[Node: metrics/mean_absolute_error/Mean_1/_69 = _Recv[client_terminated=false, recv_device=\"/job:localhost/replica:0/task:0/device:CPU:0\", send_device=\"/job:localhost/replica:0/task:0/device:GPU:0\", send_device_incarnation=1, tensor_name=\"edge_380_metrics/mean_absolute_error/Mean_1\", tensor_type=DT_FLOAT, _device=\"/job:localhost/replica:0/task:0/device:CPU:0\"]()]]",
     "output_type": "error",
     "traceback": [
      "\u001b[1;31m---------------------------------------------------------------------------\u001b[0m",
      "\u001b[1;31mInternalError\u001b[0m                             Traceback (most recent call last)",
      "\u001b[1;32m<ipython-input-9-cf050ee44f60>\u001b[0m in \u001b[0;36m<module>\u001b[1;34m()\u001b[0m\n\u001b[0;32m      8\u001b[0m     \u001b[0mverbose\u001b[0m\u001b[1;33m=\u001b[0m\u001b[1;36m0\u001b[0m\u001b[1;33m,\u001b[0m\u001b[1;33m\u001b[0m\u001b[0m\n\u001b[0;32m      9\u001b[0m     \u001b[0msample_weight\u001b[0m \u001b[1;33m=\u001b[0m \u001b[0mtrain_dataset\u001b[0m\u001b[1;33m.\u001b[0m\u001b[0mweight\u001b[0m\u001b[1;33m.\u001b[0m\u001b[0mvalues\u001b[0m\u001b[1;33m,\u001b[0m\u001b[1;33m\u001b[0m\u001b[0m\n\u001b[1;32m---> 10\u001b[1;33m     callbacks=[early_stop, PrintDot()])\n\u001b[0m",
      "\u001b[1;32m~\\AppData\\Local\\Continuum\\anaconda3\\lib\\site-packages\\tensorflow\\python\\keras\\engine\\training.py\u001b[0m in \u001b[0;36mfit\u001b[1;34m(self, x, y, batch_size, epochs, verbose, callbacks, validation_split, validation_data, shuffle, class_weight, sample_weight, initial_epoch, steps_per_epoch, validation_steps, **kwargs)\u001b[0m\n\u001b[0;32m   1361\u001b[0m           \u001b[0minitial_epoch\u001b[0m\u001b[1;33m=\u001b[0m\u001b[0minitial_epoch\u001b[0m\u001b[1;33m,\u001b[0m\u001b[1;33m\u001b[0m\u001b[0m\n\u001b[0;32m   1362\u001b[0m           \u001b[0msteps_per_epoch\u001b[0m\u001b[1;33m=\u001b[0m\u001b[0msteps_per_epoch\u001b[0m\u001b[1;33m,\u001b[0m\u001b[1;33m\u001b[0m\u001b[0m\n\u001b[1;32m-> 1363\u001b[1;33m           validation_steps=validation_steps)\n\u001b[0m\u001b[0;32m   1364\u001b[0m \u001b[1;33m\u001b[0m\u001b[0m\n\u001b[0;32m   1365\u001b[0m   def evaluate(self,\n",
      "\u001b[1;32m~\\AppData\\Local\\Continuum\\anaconda3\\lib\\site-packages\\tensorflow\\python\\keras\\engine\\training_arrays.py\u001b[0m in \u001b[0;36mfit_loop\u001b[1;34m(model, inputs, targets, sample_weights, batch_size, epochs, verbose, callbacks, val_inputs, val_targets, val_sample_weights, shuffle, callback_metrics, initial_epoch, steps_per_epoch, validation_steps)\u001b[0m\n\u001b[0;32m    262\u001b[0m           \u001b[0mins_batch\u001b[0m\u001b[1;33m[\u001b[0m\u001b[0mi\u001b[0m\u001b[1;33m]\u001b[0m \u001b[1;33m=\u001b[0m \u001b[0mins_batch\u001b[0m\u001b[1;33m[\u001b[0m\u001b[0mi\u001b[0m\u001b[1;33m]\u001b[0m\u001b[1;33m.\u001b[0m\u001b[0mtoarray\u001b[0m\u001b[1;33m(\u001b[0m\u001b[1;33m)\u001b[0m\u001b[1;33m\u001b[0m\u001b[0m\n\u001b[0;32m    263\u001b[0m \u001b[1;33m\u001b[0m\u001b[0m\n\u001b[1;32m--> 264\u001b[1;33m         \u001b[0mouts\u001b[0m \u001b[1;33m=\u001b[0m \u001b[0mf\u001b[0m\u001b[1;33m(\u001b[0m\u001b[0mins_batch\u001b[0m\u001b[1;33m)\u001b[0m\u001b[1;33m\u001b[0m\u001b[0m\n\u001b[0m\u001b[0;32m    265\u001b[0m         \u001b[1;32mif\u001b[0m \u001b[1;32mnot\u001b[0m \u001b[0misinstance\u001b[0m\u001b[1;33m(\u001b[0m\u001b[0mouts\u001b[0m\u001b[1;33m,\u001b[0m \u001b[0mlist\u001b[0m\u001b[1;33m)\u001b[0m\u001b[1;33m:\u001b[0m\u001b[1;33m\u001b[0m\u001b[0m\n\u001b[0;32m    266\u001b[0m           \u001b[0mouts\u001b[0m \u001b[1;33m=\u001b[0m \u001b[1;33m[\u001b[0m\u001b[0mouts\u001b[0m\u001b[1;33m]\u001b[0m\u001b[1;33m\u001b[0m\u001b[0m\n",
      "\u001b[1;32m~\\AppData\\Local\\Continuum\\anaconda3\\lib\\site-packages\\tensorflow\\python\\keras\\backend.py\u001b[0m in \u001b[0;36m__call__\u001b[1;34m(self, inputs)\u001b[0m\n\u001b[0;32m   2912\u001b[0m       \u001b[0mself\u001b[0m\u001b[1;33m.\u001b[0m\u001b[0m_make_callable\u001b[0m\u001b[1;33m(\u001b[0m\u001b[0mfeed_arrays\u001b[0m\u001b[1;33m,\u001b[0m \u001b[0mfeed_symbols\u001b[0m\u001b[1;33m,\u001b[0m \u001b[0msymbol_vals\u001b[0m\u001b[1;33m,\u001b[0m \u001b[0msession\u001b[0m\u001b[1;33m)\u001b[0m\u001b[1;33m\u001b[0m\u001b[0m\n\u001b[0;32m   2913\u001b[0m \u001b[1;33m\u001b[0m\u001b[0m\n\u001b[1;32m-> 2914\u001b[1;33m     \u001b[0mfetched\u001b[0m \u001b[1;33m=\u001b[0m \u001b[0mself\u001b[0m\u001b[1;33m.\u001b[0m\u001b[0m_callable_fn\u001b[0m\u001b[1;33m(\u001b[0m\u001b[1;33m*\u001b[0m\u001b[0marray_vals\u001b[0m\u001b[1;33m)\u001b[0m\u001b[1;33m\u001b[0m\u001b[0m\n\u001b[0m\u001b[0;32m   2915\u001b[0m     \u001b[0mself\u001b[0m\u001b[1;33m.\u001b[0m\u001b[0m_call_fetch_callbacks\u001b[0m\u001b[1;33m(\u001b[0m\u001b[0mfetched\u001b[0m\u001b[1;33m[\u001b[0m\u001b[1;33m-\u001b[0m\u001b[0mlen\u001b[0m\u001b[1;33m(\u001b[0m\u001b[0mself\u001b[0m\u001b[1;33m.\u001b[0m\u001b[0m_fetches\u001b[0m\u001b[1;33m)\u001b[0m\u001b[1;33m:\u001b[0m\u001b[1;33m]\u001b[0m\u001b[1;33m)\u001b[0m\u001b[1;33m\u001b[0m\u001b[0m\n\u001b[0;32m   2916\u001b[0m     \u001b[1;32mreturn\u001b[0m \u001b[0mfetched\u001b[0m\u001b[1;33m[\u001b[0m\u001b[1;33m:\u001b[0m\u001b[0mlen\u001b[0m\u001b[1;33m(\u001b[0m\u001b[0mself\u001b[0m\u001b[1;33m.\u001b[0m\u001b[0moutputs\u001b[0m\u001b[1;33m)\u001b[0m\u001b[1;33m]\u001b[0m\u001b[1;33m\u001b[0m\u001b[0m\n",
      "\u001b[1;32m~\\AppData\\Local\\Continuum\\anaconda3\\lib\\site-packages\\tensorflow\\python\\client\\session.py\u001b[0m in \u001b[0;36m__call__\u001b[1;34m(self, *args, **kwargs)\u001b[0m\n\u001b[0;32m   1380\u001b[0m           ret = tf_session.TF_SessionRunCallable(\n\u001b[0;32m   1381\u001b[0m               \u001b[0mself\u001b[0m\u001b[1;33m.\u001b[0m\u001b[0m_session\u001b[0m\u001b[1;33m.\u001b[0m\u001b[0m_session\u001b[0m\u001b[1;33m,\u001b[0m \u001b[0mself\u001b[0m\u001b[1;33m.\u001b[0m\u001b[0m_handle\u001b[0m\u001b[1;33m,\u001b[0m \u001b[0margs\u001b[0m\u001b[1;33m,\u001b[0m \u001b[0mstatus\u001b[0m\u001b[1;33m,\u001b[0m\u001b[1;33m\u001b[0m\u001b[0m\n\u001b[1;32m-> 1382\u001b[1;33m               run_metadata_ptr)\n\u001b[0m\u001b[0;32m   1383\u001b[0m         \u001b[1;32mif\u001b[0m \u001b[0mrun_metadata\u001b[0m\u001b[1;33m:\u001b[0m\u001b[1;33m\u001b[0m\u001b[0m\n\u001b[0;32m   1384\u001b[0m           \u001b[0mproto_data\u001b[0m \u001b[1;33m=\u001b[0m \u001b[0mtf_session\u001b[0m\u001b[1;33m.\u001b[0m\u001b[0mTF_GetBuffer\u001b[0m\u001b[1;33m(\u001b[0m\u001b[0mrun_metadata_ptr\u001b[0m\u001b[1;33m)\u001b[0m\u001b[1;33m\u001b[0m\u001b[0m\n",
      "\u001b[1;32m~\\AppData\\Local\\Continuum\\anaconda3\\lib\\site-packages\\tensorflow\\python\\framework\\errors_impl.py\u001b[0m in \u001b[0;36m__exit__\u001b[1;34m(self, type_arg, value_arg, traceback_arg)\u001b[0m\n\u001b[0;32m    517\u001b[0m             \u001b[1;32mNone\u001b[0m\u001b[1;33m,\u001b[0m \u001b[1;32mNone\u001b[0m\u001b[1;33m,\u001b[0m\u001b[1;33m\u001b[0m\u001b[0m\n\u001b[0;32m    518\u001b[0m             \u001b[0mcompat\u001b[0m\u001b[1;33m.\u001b[0m\u001b[0mas_text\u001b[0m\u001b[1;33m(\u001b[0m\u001b[0mc_api\u001b[0m\u001b[1;33m.\u001b[0m\u001b[0mTF_Message\u001b[0m\u001b[1;33m(\u001b[0m\u001b[0mself\u001b[0m\u001b[1;33m.\u001b[0m\u001b[0mstatus\u001b[0m\u001b[1;33m.\u001b[0m\u001b[0mstatus\u001b[0m\u001b[1;33m)\u001b[0m\u001b[1;33m)\u001b[0m\u001b[1;33m,\u001b[0m\u001b[1;33m\u001b[0m\u001b[0m\n\u001b[1;32m--> 519\u001b[1;33m             c_api.TF_GetCode(self.status.status))\n\u001b[0m\u001b[0;32m    520\u001b[0m     \u001b[1;31m# Delete the underlying status object from memory otherwise it stays alive\u001b[0m\u001b[1;33m\u001b[0m\u001b[1;33m\u001b[0m\u001b[0m\n\u001b[0;32m    521\u001b[0m     \u001b[1;31m# as there is a reference to status from this from the traceback due to\u001b[0m\u001b[1;33m\u001b[0m\u001b[1;33m\u001b[0m\u001b[0m\n",
      "\u001b[1;31mInternalError\u001b[0m: Blas GEMM launch failed : a.shape=(32, 291), b.shape=(291, 128), m=32, n=128, k=291\n\t [[Node: dense/MatMul = MatMul[T=DT_FLOAT, transpose_a=false, transpose_b=false, _device=\"/job:localhost/replica:0/task:0/device:GPU:0\"](_arg_dense_input_0_0/_43, dense/MatMul/ReadVariableOp)]]\n\t [[Node: metrics/mean_absolute_error/Mean_1/_69 = _Recv[client_terminated=false, recv_device=\"/job:localhost/replica:0/task:0/device:CPU:0\", send_device=\"/job:localhost/replica:0/task:0/device:GPU:0\", send_device_incarnation=1, tensor_name=\"edge_380_metrics/mean_absolute_error/Mean_1\", tensor_type=DT_FLOAT, _device=\"/job:localhost/replica:0/task:0/device:CPU:0\"]()]]"
     ]
    }
   ],
   "source": [
    "model = build_model(prepData(train_dataset))\n",
    "\n",
    "history = model.fit(\n",
    "    prepData(train_dataset),\n",
    "    train_dataset['EVENT_NUM'],\n",
    "    epochs=1000,\n",
    "    validation_split = 0.2,\n",
    "    verbose=0,\n",
    "    sample_weight = train_dataset.weight.values,\n",
    "    callbacks=[early_stop, PrintDot()])"
   ]
  },
  {
   "cell_type": "code",
   "execution_count": null,
   "metadata": {},
   "outputs": [],
   "source": [
    "hist = pandas.DataFrame(history.history)\n",
    "hist['epoch'] = history.epoch\n",
    "hist.tail()"
   ]
  },
  {
   "cell_type": "code",
   "execution_count": null,
   "metadata": {},
   "outputs": [],
   "source": [
    "import matplotlib.pyplot as plt\n",
    "\n",
    "def plot_history(history):\n",
    "    plt.figure()\n",
    "    plt.xlabel('Epoch')\n",
    "    plt.ylabel('Mean Abs Error')\n",
    "    plt.plot(hist['epoch'], hist['mean_absolute_error'],\n",
    "             label='Train Error')\n",
    "    plt.plot(hist['epoch'], hist['val_mean_absolute_error'],\n",
    "             label = 'Val Error')\n",
    "    plt.legend()\n",
    "\n",
    "    plt.figure()\n",
    "    plt.xlabel('Epoch')\n",
    "    plt.ylabel('Mean Square Error')\n",
    "    plt.plot(hist['epoch'], hist['mean_squared_error'],\n",
    "             label='Train Error')\n",
    "    plt.plot(hist['epoch'], hist['val_mean_squared_error'],\n",
    "             label = 'Val Error')\n",
    "    plt.legend()\n",
    "\n",
    "plot_history(history)"
   ]
  },
  {
   "cell_type": "code",
   "execution_count": null,
   "metadata": {},
   "outputs": [],
   "source": [
    "def plot_predictions(fit):\n",
    "    plt.figure()\n",
    "    plt.xlabel('Date')\n",
    "    plt.ylabel('Incidents')\n",
    "    plt.plot(fit['HOUR_CALL_START_FINCAD'], fit['actual'],\n",
    "             label='Actual')\n",
    "    plt.plot(fit['HOUR_CALL_START_FINCAD'], fit['fitted'],\n",
    "             label = 'Fitted')\n",
    "    plt.xlim([datetime(2018, 11, 1), fit['HOUR_CALL_START_FINCAD'].max()])\n",
    "    plt.legend()\n",
    "\n",
    "\n",
    "test_predictions = pandas.DataFrame({'HOUR_CALL_START_FINCAD' : test_dataset['HOUR_CALL_START_FINCAD'],\n",
    "                                    'actual' : test_dataset['EVENT_NUM'],\n",
    "                                    'fitted' : model.predict(prepData(test_dataset)).flatten()})\n",
    "test_predictions.sort_values('HOUR_CALL_START_FINCAD', inplace = True)\n",
    "#print(test_predictions)\n",
    "plot_predictions(test_predictions)"
   ]
  },
  {
   "cell_type": "code",
   "execution_count": null,
   "metadata": {},
   "outputs": [],
   "source": []
  },
  {
   "cell_type": "code",
   "execution_count": null,
   "metadata": {},
   "outputs": [],
   "source": []
  },
  {
   "cell_type": "code",
   "execution_count": null,
   "metadata": {},
   "outputs": [],
   "source": []
  }
 ],
 "metadata": {
  "kernelspec": {
   "display_name": "Python 3",
   "language": "python",
   "name": "python3"
  },
  "language_info": {
   "codemirror_mode": {
    "name": "ipython",
    "version": 3
   },
   "file_extension": ".py",
   "mimetype": "text/x-python",
   "name": "python",
   "nbconvert_exporter": "python",
   "pygments_lexer": "ipython3",
   "version": "3.6.6"
  }
 },
 "nbformat": 4,
 "nbformat_minor": 2
}
